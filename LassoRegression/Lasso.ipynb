{
 "cells": [
  {
   "cell_type": "code",
   "execution_count": 1,
   "metadata": {
    "collapsed": true
   },
   "outputs": [],
   "source": [
    "import pandas as pd\n",
    "import numpy as np\n",
    "import scipy.sparse as sp"
   ]
  },
  {
   "cell_type": "code",
   "execution_count": 2,
   "metadata": {
    "collapsed": true
   },
   "outputs": [],
   "source": [
    "def train(dfTrain, dfTrainLbl, lda, w, b):    \n",
    "    # print dfTrain.values[:,[0]].shape\n",
    "    # print dfTrain.values[:,[1]].shape\n",
    "    # print dfTrain.values[:,[2]].shape\n",
    "    row = np.array(dfTrain.values[:,[1]])\n",
    "    row = row.flatten()\n",
    "    column = np.array(dfTrain.values[:,[0]])\n",
    "    column = column.flatten()\n",
    "    mat = np.array(dfTrain.values[:,[2]])\n",
    "    mat = mat.flatten()\n",
    "    '''convert to sparse matrix'''\n",
    "    X = sp.csr_matrix((mat, (row-1, column-1)))                      \n",
    "    # X = sp.csr_matrix(dfTrain.values)\n",
    "    # csr_matrix((data, (row_ind, col_ind)), [shape=(M, N)])\n",
    "    # , shape = (dfTrain.values.shape[0], dfTrain.values.shape[1]))\n",
    "    # X = scipy.sparse.csr_matrix(df.values)\n",
    "    XT = X.transpose()\n",
    "    d = X.shape[0]\n",
    "    n = X.shape[1]\n",
    "#     print X.shape[0]\n",
    "    # print XT.shape\n",
    "    # print X.shape\n",
    "    a = np.dot(X,XT)\n",
    "    a = 2*a.diagonal()\n",
    "#     print \"a\", a\n",
    "    y = np.array(dfTrainLbl.values)\n",
    "    y = y.flatten()\n",
    "    # print y.shape\n",
    "    y = y.transpose()\n",
    "    # print y.shape\n",
    "    # print dfTrainLbl.shape\n",
    "    ##########################################\n",
    "#     w = np.random.rand(d)\n",
    "    #w = np.zeros(d)\n",
    "    ######################################\n",
    "#     print w.shape\n",
    "#     b = 0\n",
    "#     In = np.ones(n)\n",
    "#     Id = np.ones(d)\n",
    "#     print b.shape\n",
    "    # w = w.transpose()\n",
    "    # print \n",
    "    # print X\n",
    "    # print X[0]\n",
    "    # v = X[0].toarray()#np.squeeze(np.asarray(X[0]))\n",
    "    # v = np.array(v)\n",
    "    # v = v.reshape(-1)\n",
    "    # print v.shape\n",
    "    # v = v.flatten()\n",
    "    # print (w[0]*(X[0].T)).shape\n",
    "    # print r.reshape(r.shape[0], 1).shape\n",
    "    # print r.shape[0]\n",
    "\n",
    "    # print 2*(X[0].dot((r.reshape(r.shape[0], 1) - (w[0]*(X[0].T)))))\n",
    "    # print r.shape\n",
    "\n",
    "    # print 2*(X[0].dot((r - w[0]*X[0].T)))\n",
    "    # print r.shape\n",
    "    # print r\n",
    "    # r = r.reshape(r.shape[0], 1) + (w[0] - wkOld)*X[0].T\n",
    "    # r = np.squeeze(np.asarray(r))\n",
    "    # print r.shape\n",
    "\n",
    "#     ldaMax = 2*np.amax(abs(X.dot(y - (np.sum(y)/float(n)))))\n",
    "#     print ldaMax\n",
    "#     lda = ldaMax    \n",
    "#     lda = lda/2\n",
    "#     print \"lambda\",lda \n",
    "    delta = 0.01\n",
    "#     prevRmse = 0\n",
    "    currRmse = rmse(X, w, b, y)\n",
    "    #     lda = 30\n",
    "#     print \"rms\", abs(currRmse - prevRmse)\n",
    "#     print 'Train '\n",
    "    prevLoss = 0\n",
    "    currLoss = loss(X, w, b, y, lda)\n",
    "    #currLoss = 99999999999999999\n",
    "    while(abs(prevLoss - currLoss) > delta):\n",
    "        r = (y - X.T.dot(w)) - b\n",
    "        #     print r\n",
    "        bOld = b\n",
    "        b = np.full(n, np.sum(r+b)/float(n)) #np.divide((r+b),n)\n",
    "        r = r - b + bOld;\n",
    "        #     print \"r\", r\n",
    "        wkOld = 0\n",
    "        for k in range(0,d):\n",
    "            ck = 2*(X[k].dot((r.reshape(r.shape[0], 1) + (w[k]*(X[k].T)))))\n",
    "#             print ck\n",
    "            wkOld = w[k]\n",
    "            if(ck < (-1)*lda):\n",
    "                w[k] = (ck + lda)/a[k]\n",
    "            elif(ck > lda):\n",
    "                w[k]  = (ck - lda)/a[k]\n",
    "            else:\n",
    "                w[k] = 0\n",
    "                \n",
    "            r = r.reshape(r.shape[0], 1) - (w[k] - wkOld)*X[k].T\n",
    "            r = np.squeeze(np.asarray(r))            \n",
    "        prevRmse = currRmse     \n",
    "        currRmse = rmse(X, w, b, y)\n",
    "        prevLoss = currLoss\n",
    "        currLoss = loss(X, w, b, y, lda)\n",
    "        #cLoss = loss(X, w, b, y, lda)\n",
    "#         print \"rms\", currRmse\n",
    "#         print \"currrms - prev\", currRmse - prevRmse\n",
    "#         print \"loss\", loss(X, w, b, y, lda)\n",
    "            #     print prevRmse\n",
    "#             print currRmse\n",
    "    #         print \"rms\", abs(currRmse - prevRmse)\n",
    "#             print \"loss\", loss(X, w, b, y, lda)\n",
    "#     loss1 = \n",
    "#     print \"loss\", loss(X, w, b, y, lda)\n",
    "    return w,b,currRmse"
   ]
  },
  {
   "cell_type": "code",
   "execution_count": 3,
   "metadata": {
    "collapsed": true
   },
   "outputs": [],
   "source": [
    "# rmse(w.T.dot(X), Y)\n",
    "def rmse(X, w, b, y):\n",
    "#     print w.shape\n",
    "#     print X.shape\n",
    "#     print y.shape\n",
    "    r = y - X.T.dot(w) - b\n",
    "    \n",
    "    r_sqr = np.square(r)\n",
    "    sqrSum = np.sum(r_sqr)\n",
    "    n = X.shape[0]\n",
    "#     print n\n",
    "    tmp = sqrSum/float(n)\n",
    "    import math\n",
    "#     print math.sqrt(tmp)\n",
    "    return math.sqrt(tmp)\n",
    "    "
   ]
  },
  {
   "cell_type": "code",
   "execution_count": 4,
   "metadata": {
    "collapsed": true
   },
   "outputs": [],
   "source": [
    "def loss(X, w, b, y, lda):\n",
    "    r = (X.T.dot(w) + b) -y\n",
    "    r_sqr = np.square(r)\n",
    "    sqrSum = np.sum(r_sqr)\n",
    "    w = np.absolute(w)\n",
    "    reg = np.sum(w)\n",
    "    reg = lda*reg\n",
    "    return sqrSum + reg"
   ]
  },
  {
   "cell_type": "code",
   "execution_count": 5,
   "metadata": {},
   "outputs": [
    {
     "name": "stdout",
     "output_type": "stream",
     "text": [
      "lambda 1217.5173296\n",
      "TrainRmse 6.19298860239\n",
      "ValRmse 6.18127570446\n",
      "lambda 608.7586648\n",
      "TrainRmse 5.88462710741\n",
      "ValRmse 5.89192479847\n",
      "lambda 304.3793324\n",
      "TrainRmse 5.42649989976\n",
      "ValRmse 5.45381165952\n",
      "lambda 152.1896662\n",
      "TrainRmse 4.99608100333\n",
      "ValRmse 5.05599642353\n",
      "lambda 76.0948331\n",
      "TrainRmse 4.51185566228\n",
      "ValRmse 4.61464068319\n",
      "lambda 38.04741655\n",
      "TrainRmse 4.11250202278\n",
      "ValRmse 4.25676781738\n",
      "lambda 19.023708275\n",
      "TrainRmse 3.75534862888\n",
      "ValRmse 3.96660197343\n",
      "lambda 9.5118541375\n",
      "TrainRmse 3.39108068746\n",
      "ValRmse 3.72284902547\n",
      "lambda 4.75592706875\n",
      "TrainRmse 3.09792740941\n",
      "ValRmse 3.58527022662\n",
      "lambda 2.37796353438\n",
      "TrainRmse 2.8741169188\n",
      "ValRmse 3.55725389418\n",
      "lambda 1.18898176719\n",
      "TrainRmse 2.74807604588\n",
      "ValRmse 3.61223867881\n"
     ]
    }
   ],
   "source": [
    "if __name__ == '__main__':    \n",
    "    \n",
    "    '''Parse Data'''\n",
    "    train_dataset = \"trainData.txt\"\n",
    "    trainingData = pd.read_csv(train_dataset, sep = ' ', header = None)\n",
    "    train_label = \"trainLabels.txt\"\n",
    "    trainingLabels = pd.read_csv(train_label, header = None)\n",
    "    \n",
    "    val_dataset = \"valData.txt\"\n",
    "    valData = pd.read_csv(val_dataset, sep = ' ', header = None)\n",
    "    val_label = \"valLabels.txt\"\n",
    "    valLabels = pd.read_csv(val_label, header = None)\n",
    "#     pd.read_csv(\"/media/indu/New Volume/study/Graduate/ML/Assignment1/Lasso/testData.txt\", delim_whitespace = True, names = [\"instance\", \"feature\", \"value\"], header = None )\n",
    "#     valData = pd.read_table(\"/media/indu/New Volume/study/Graduate/ML/Assignment1/Lasso/valData.txt\", delim_whitespace = True, names = [\"instance\", \"feature\", \"value\"], header = None)\n",
    "#     trainLabels = pd.read_table(\"/media/indu/New Volume/study/Graduate/ML/Assignment1/Lasso/trainLabels.txt\")\n",
    "#     valLabels = pd.read_table(\"/media/indu/New Volume/study/Graduate/ML/Assignment1/Lasso/valLabels.txt\")    \n",
    "    #print trainingData\n",
    "    dfTrain = pd.DataFrame(data = trainingData)\n",
    "    dfTrainLbl = pd.DataFrame(data = trainingLabels)\n",
    "    \n",
    "    dfVal = pd.DataFrame(data = valData)\n",
    "    dfValLbl = pd.DataFrame(data = valLabels)\n",
    "\n",
    "    row = np.array(dfVal.values[:,[1]])\n",
    "    row = row.flatten()\n",
    "    column = np.array(dfVal.values[:,[0]])\n",
    "    column = column.flatten()\n",
    "    mat = np.array(dfVal.values[:,[2]])\n",
    "    mat = mat.flatten()\n",
    "    '''convert to sparse matrix'''\n",
    "    X = sp.csr_matrix((mat, (row-1, column-1))) \n",
    "    y = np.array(dfValLbl.values)\n",
    "    y = y.flatten()\n",
    "    d = X.shape[0]\n",
    "    n = X.shape[1]\n",
    "#     print 'test'\n",
    "    ldaMax = 2*np.amax(abs(X.dot(y - (np.sum(y)/float(n)))))\n",
    "    ldaPrev = 0\n",
    "    lda = ldaMax\n",
    "    \n",
    "#     train(dfTrain, dfTrainLbl, lda)\n",
    "#     prevLossVal = lossVal\n",
    "#     delta = 0.01\n",
    "#     lossTrain = train(dfTrain, dfTrainLbl, lda)\n",
    "#     lossVal = train(dfVal, dfValLbl, lda)\n",
    "#     prevLossVal = 999999999999999\n",
    "#     lossVal = train(dfVal, dfValLbl, lda)\n",
    "#     while(prevLossVal - lossVal > delta):        \n",
    "    prevRmse = 999999999999999#999999999999999\n",
    "    currRmse = 999999999999998\n",
    "#     delta = 0.001\n",
    "    trainRmseList = []\n",
    "    valRmseList = []\n",
    "    lambdaList = []\n",
    "    nonZeroList = []\n",
    "    while(prevRmse > currRmse):\n",
    "        w = np.random.rand(d)\n",
    "        b = 0\n",
    "        w,b,trainRmse = train(dfTrain, dfTrainLbl, lda, w, b)\n",
    "        nonZeroList.append( np.count_nonzero(w))\n",
    "        trainRmseList.append(trainRmse)\n",
    "        #X,w,b,y\n",
    "        prevRmse = currRmse\n",
    "        currRmse = rmse(X,w,b,y)\n",
    "        valRmseList.append(currRmse)\n",
    "        lambdaList.append(lda)        \n",
    "        print \"lambda\", lda\n",
    "        print \"TrainRmse\", trainRmse\n",
    "        print \"ValRmse\", currRmse\n",
    "#         prevLossVal = lossVal         \n",
    "#         print \"PrevLossVal\", prevLossVal\n",
    "#         lambdaBest = lda\n",
    "        lda = lda/2\n",
    "#         print \"lossTrain\", lossTrain\n",
    "#         print \"lossVal\", lossVal\n",
    "        \n",
    "#     while():\n",
    "#         lda = lda/2\n",
    "#         train(dfTrain, dfTrainLbl, lda)\n",
    "#         train(dfVal, dfValLbl, lda)\n",
    "#     print trainingData\n",
    "#     print dfTrainLbl.shape\n",
    "#     print dfTrain.values[:,[1]]\n",
    "#     data[:, [1, 9]]"
   ]
  },
  {
   "cell_type": "code",
   "execution_count": 7,
   "metadata": {},
   "outputs": [
    {
     "name": "stdout",
     "output_type": "stream",
     "text": [
      "2.37796353438\n"
     ]
    }
   ],
   "source": [
    "print lambdaList[len(lambdaList) - 2]\n",
    "bestLambda = lambdaList[len(lambdaList) - 2]\n",
    "w = np.random.rand(d)\n",
    "b = 0\n",
    "wBest, bBest, trainRmse = train(dfTrain, dfTrainLbl, bestLambda, w, b)"
   ]
  },
  {
   "cell_type": "code",
   "execution_count": 9,
   "metadata": {},
   "outputs": [
    {
     "name": "stdout",
     "output_type": "stream",
     "text": [
      "['earns' 'cherry berry' 'high' 'soft' 'sparkler' 'cuts' 'brightened'\n",
      " 'semillon' 'black' 'liqueur']\n",
      "['banana' 'yeast' 'spices' ..., 'big' 'stars' 'spearmint']\n"
     ]
    }
   ],
   "source": [
    "ftrs = \"featureTypes.txt\"\n",
    "ftrData = pd.read_csv(ftrs, header = None)\n",
    "dfFtrData = pd.DataFrame(data = ftrData)\n",
    "f = np.array(dfFtrData.values)\n",
    "f = f.flatten()\n",
    "index = np.argsort(wBest)"
   ]
  },
  {
   "cell_type": "code",
   "execution_count": 10,
   "metadata": {},
   "outputs": [
    {
     "name": "stdout",
     "output_type": "stream",
     "text": [
      "['earns' 'cherry berry' 'high' 'soft' 'sparkler' 'cuts' 'brightened'\n",
      " 'semillon' 'black' 'liqueur']\n",
      "['acidity provides' 'sweet black' 'truly' 'nearly' 'ageability' 'lemony'\n",
      " 'lifesaver' 'big' 'stars' 'spearmint']\n"
     ]
    }
   ],
   "source": [
    "print f[index[:10]]\n",
    "print f[index[-10:]]"
   ]
  },
  {
   "cell_type": "code",
   "execution_count": 23,
   "metadata": {},
   "outputs": [
    {
     "data": {
      "image/png": "[encoded data removed]",
      "text/plain": [
       "<matplotlib.figure.Figure at 0x7f007e97bc50>"
      ]
     },
     "metadata": {},
     "output_type": "display_data"
    }
   ],
   "source": [
    "import matplotlib.pyplot as plt\n",
    "# trainRmseList = []\n",
    "# valRmseList = []\n",
    "# lambdaList = []\n",
    "# nonZeroList = []\n",
    "plt.plot(lambdaList, trainRmseList)\n",
    "plt.plot(lambdaList, valRmseList)\n",
    "# plt.plot(lambdaList, nonZeroList)\n",
    "plt.xlabel('Lambda')\n",
    "plt.ylabel('others')\n",
    "# plt.legend((trainRmseList, valRmseList), ('Train', 'Validation'))\n",
    "ax = plt.gca()\n",
    "ax.set_xlim(ax.get_xlim()[::-1])\n",
    "plt.show()"
   ]
  },
  {
   "cell_type": "code",
   "execution_count": 97,
   "metadata": {},
   "outputs": [
    {
     "data": {
      "image/png": "[encoded data removed]",
      "text/plain": [
       "<matplotlib.figure.Figure at 0x7f482ba82190>"
      ]
     },
     "metadata": {},
     "output_type": "display_data"
    }
   ],
   "source": [
    "plt.plot(nonZeroList)\n",
    "plt.show()"
   ]
  },
  {
   "cell_type": "code",
   "execution_count": 21,
   "metadata": {},
   "outputs": [
    {
     "name": "stdout",
     "output_type": "stream",
     "text": [
      "2.89192516381\n"
     ]
    }
   ],
   "source": [
    "wVal, bVal, valRmse = train(dfVal, dfValLbl, bestLambda, wBest, bBest)\n",
    "print valRmse"
   ]
  },
  {
   "cell_type": "code",
   "execution_count": 9,
   "metadata": {},
   "outputs": [
    {
     "name": "stdout",
     "output_type": "stream",
     "text": [
      "(3000,)\n",
      "(3000, 10000)\n",
      "(10000,)\n"
     ]
    }
   ],
   "source": [
    "test_dataset = \"testData.txt\"\n",
    "testData = pd.read_csv(test_dataset, sep = ' ', header = None)\n",
    "dfTest = pd.DataFrame(data = testData)\n",
    "rowT = np.array(dfTest.values[:,[1]])\n",
    "rowT = row.flatten()\n",
    "columnT = np.array(dfTest.values[:,[0]])\n",
    "columnT = column.flatten()\n",
    "matT = np.array(dfTest.values[:,[2]])\n",
    "matT = mat.flatten()\n",
    "XTest = sp.csr_matrix((matT, (rowT-1, columnT-1))) \n",
    "print wBest.shape\n",
    "print XTest.shape\n",
    "print bBest.shape\n",
    "# y = wBest.T.dot(XTest) + bBest\n",
    "# print y\n",
    "# numpy.savetxt(\"predTestLabels.csv\")\n",
    "\n",
    "\n"
   ]
  },
  {
   "cell_type": "code",
   "execution_count": null,
   "metadata": {
    "collapsed": true
   },
   "outputs": [],
   "source": [
    "print wBest.shape\n",
    "print Xtest.shape\n",
    "print bBest.shape\n",
    "y = wBest.T.dot(XTest) + bBest\n",
    "print y\n",
    "# numpy.savetxt(\"predTestLabels.csv\")"
   ]
  }
 ],
 "metadata": {
  "kernelspec": {
   "display_name": "Python 2",
   "language": "python",
   "name": "python2"
  },
  "language_info": {
   "codemirror_mode": {
    "name": "ipython",
    "version": 2
   },
   "file_extension": ".py",
   "mimetype": "text/x-python",
   "name": "python",
   "nbconvert_exporter": "python",
   "pygments_lexer": "ipython2",
   "version": "2.7.14"
  }
 },
 "nbformat": 4,
 "nbformat_minor": 2
}
