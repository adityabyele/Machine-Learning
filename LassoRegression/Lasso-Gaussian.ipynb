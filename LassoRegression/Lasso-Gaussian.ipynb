{
 "cells": [
  {
   "cell_type": "code",
   "execution_count": 2,
   "metadata": {
    "collapsed": true
   },
   "outputs": [],
   "source": [
    "import pandas as pd\n",
    "import numpy as np\n",
    "import scipy.sparse as sp"
   ]
  },
  {
   "cell_type": "code",
   "execution_count": 3,
   "metadata": {
    "collapsed": true
   },
   "outputs": [],
   "source": [
    "def train(X, y, lda):    \n",
    "    XT = X.transpose()\n",
    "    d = X.shape[0]\n",
    "    n = X.shape[1]\n",
    "    a = np.dot(X,XT)\n",
    "    a = 2*a.diagonal()\n",
    "    w = np.random.rand(d)\n",
    "    #w = np.zeros(d)\n",
    "    b = 0\n",
    "    In = np.ones(n)\n",
    "    Id = np.ones(d)\n",
    "    delta = 0.001\n",
    "    prevRmse = 0\n",
    "    currRmse = rmse(X, w, b, y)\n",
    "    while(abs(prevRmse - currRmse) > delta):\n",
    "        r = (y - X.T.dot(w)) - b\n",
    "        bOld = b\n",
    "        b = np.sum(r+b)/float(n)\n",
    "        r = r - b + bOld;        \n",
    "        wkOld = 0\n",
    "        for k in range(0,d):\n",
    "            ck = 2*(X[k].dot((r.reshape(r.shape[0], 1) + (w[k]*(X[k].T)))))            \n",
    "            wkOld = w[k]\n",
    "            if(ck < (-1)*lda):\n",
    "                w[k] = (ck + lda)/a[k]\n",
    "            elif((ck <= lda) and (ck >= (-1)*lda)):\n",
    "                w[k] = 0\n",
    "            else: \n",
    "                w[k]  = (ck - lda)/a[k]\n",
    "            r = r.reshape(r.shape[0], 1) - (w[k] - wkOld)*X[k].T\n",
    "            r = np.squeeze(np.asarray(r))            \n",
    "        prevRmse = currRmse            \n",
    "        currRmse = rmse(X, w, b, y)\n",
    "    return w,b,currRmse"
   ]
  },
  {
   "cell_type": "code",
   "execution_count": 4,
   "metadata": {
    "collapsed": true
   },
   "outputs": [],
   "source": [
    "def rmse(X, w, b, y):\n",
    "    r = y - X.T.dot(w) - b\n",
    "    r_sqr = np.square(r)\n",
    "    sqrSum = np.sum(r_sqr)\n",
    "    n = X.shape[0]\n",
    "    tmp = sqrSum/(n*1.0)\n",
    "    import math\n",
    "    return math.sqrt(tmp)\n",
    "    "
   ]
  },
  {
   "cell_type": "code",
   "execution_count": 5,
   "metadata": {
    "collapsed": true
   },
   "outputs": [],
   "source": [
    "def loss(X, w, b, y, lda):\n",
    "    r = y - X.T.dot(w) - b\n",
    "    r_sqr = np.square(r)\n",
    "    sqrSum = np.sum(r_sqr)\n",
    "    w = np.absolute(w)\n",
    "    reg = np.sum(w)\n",
    "    reg = lda*reg\n",
    "    return sqrSum + reg"
   ]
  },
  {
   "cell_type": "code",
   "execution_count": 6,
   "metadata": {},
   "outputs": [
    {
     "name": "stdout",
     "output_type": "stream",
     "text": [
      "*****************************************\n",
      "lambda 5863.72996396\n",
      "trainRmse 54.0689955653\n",
      "Sparsity pattern 1\n",
      "*****************************************\n",
      "*****************************************\n",
      "lambda 2931.86498198\n",
      "trainRmse 34.1680863999\n",
      "Sparsity pattern 10\n",
      "*****************************************\n",
      "*****************************************\n",
      "lambda 1465.93249099\n",
      "trainRmse 17.1521854437\n",
      "Sparsity pattern 10\n",
      "*****************************************\n",
      "*****************************************\n",
      "lambda 732.966245495\n",
      "trainRmse 8.71088277149\n",
      "Sparsity pattern 10\n",
      "*****************************************\n",
      "*****************************************\n",
      "lambda 366.483122748\n",
      "trainRmse 4.61525885293\n",
      "Sparsity pattern 10\n",
      "*****************************************\n",
      "*****************************************\n",
      "lambda 183.241561374\n",
      "trainRmse 2.7668664024\n",
      "Sparsity pattern 10\n",
      "*****************************************\n",
      "*****************************************\n",
      "lambda 91.6207806869\n",
      "trainRmse 2.06011573524\n",
      "Sparsity pattern 10\n",
      "*****************************************\n",
      "*****************************************\n",
      "lambda 45.8103903434\n",
      "trainRmse 1.81307214824\n",
      "Sparsity pattern 20\n",
      "*****************************************\n",
      "*****************************************\n",
      "lambda 22.9051951717\n",
      "trainRmse 1.66055405049\n",
      "Sparsity pattern 40\n",
      "*****************************************\n",
      "*****************************************\n",
      "lambda 11.4525975859\n",
      "trainRmse 1.55323819647\n",
      "Sparsity pattern 63\n",
      "*****************************************\n",
      "*****************************************\n",
      "Final Sparsity pattern 63\n",
      "Final recall 1.0\n",
      "Final precision 0.15873015873\n",
      "*****************************************\n"
     ]
    }
   ],
   "source": [
    "if __name__ == '__main__':    \n",
    "    \n",
    "    n= 250\n",
    "    d =80\n",
    "    X = np.random.standard_normal(size = (d,n))\n",
    "    k = 10\n",
    "    wOpt = np.zeros(d)\n",
    "    wOpt[:k] = 10\n",
    "    e = np.random.normal(0, 1, size = (n))\n",
    "    bOpt = 0\n",
    "    y = X.T.dot(wOpt) + bOpt + e    \n",
    "    ldaMax = 2*np.amax(abs(X.dot(y - (np.sum(y)/float(n)))))    \n",
    "    lda = ldaMax\n",
    "    X1 = sp.csr_matrix(X)\n",
    "    train(X1, y, lda)\n",
    "    nonZeroList = []\n",
    "    precisionList = []\n",
    "    recallList = []\n",
    "    lambdaList = []\n",
    "    prevRmse = 999999999999999\n",
    "    currRmse = 99999999999999\n",
    "    \n",
    "    for i in range(10):\n",
    "        w,b,trainRmse = train(X1, y, lda)                        \n",
    "        np.count_nonzero(w[:k])\n",
    "        correctW = np.count_nonzero(w[:k])        \n",
    "        prevRmse = currRmse\n",
    "        currRmse = rmse(X,w,b,y)\n",
    "        total = np.count_nonzero(w)\n",
    "        if(total != 0):\n",
    "            precision = correctW/float(total)\n",
    "        else:\n",
    "            precision = 1\n",
    "        precisionList.append(precision)\n",
    "        recall = correctW/float(k)\n",
    "        recallList.append(recall)\n",
    "        lambdaList.append(lda)\n",
    "        print \"*****************************************\"\n",
    "        print \"lambda\", lda\n",
    "        print \"trainRmse\", trainRmse\n",
    "        print \"Sparsity pattern\", np.count_nonzero(w)\n",
    "        print \"*****************************************\"\n",
    "        lda = lda/2\n",
    "    \n",
    "    correctW = np.count_nonzero(w[:k])\n",
    "    total = np.count_nonzero(w)\n",
    "    precision = correctW/float(total)    \n",
    "    recall = correctW/float(k)  \n",
    "    print \"*****************************************\"\n",
    "    print \"Final Sparsity pattern\", np.count_nonzero(w)\n",
    "    print \"Final recall\", recall\n",
    "    print \"Final precision\", precision\n",
    "    print \"*****************************************\"\n"
   ]
  },
  {
   "cell_type": "code",
   "execution_count": 7,
   "metadata": {},
   "outputs": [
    {
     "name": "stdout",
     "output_type": "stream",
     "text": [
      "[5863.7299639612138, 2931.8649819806069, 1465.9324909903034, 732.96624549515172, 366.48312274757586, 183.24156137378793, 91.620780686893966, 45.810390343446983, 22.905195171723491, 11.452597585861746]\n"
     ]
    }
   ],
   "source": [
    "print lambdaList"
   ]
  },
  {
   "cell_type": "code",
   "execution_count": 8,
   "metadata": {},
   "outputs": [
    {
     "data": {
      "text/plain": [
       "<matplotlib.figure.Figure at 0x7f66c731bb10>"
      ]
     },
     "metadata": {},
     "output_type": "display_data"
    }
   ],
   "source": [
    "import matplotlib.pyplot as plt\n",
    "plt.plot(lambdaList, precisionList)\n",
    "plt.plot(lambdaList, recallList)\n",
    "plt.xlabel('Lambda')\n",
    "plt.ylabel('others')\n",
    "ax = plt.gca()\n",
    "ax.set_xlim(ax.get_xlim()[::-1])\n",
    "plt.show()"
   ]
  },
  {
   "cell_type": "code",
   "execution_count": 9,
   "metadata": {},
   "outputs": [
    {
     "data": {
      "image/png": "[encoded data removed]",
      "text/plain": [
       "<matplotlib.figure.Figure at 0x7f66c731b610>"
      ]
     },
     "metadata": {},
     "output_type": "display_data"
    }
   ],
   "source": [
    "plt.plot(nonZeroList)\n",
    "plt.show()"
   ]
  },
  {
   "cell_type": "code",
   "execution_count": 15,
   "metadata": {},
   "outputs": [
    {
     "name": "stdout",
     "output_type": "stream",
     "text": [
      "*****************************************\n",
      "lambda 4.37239662251\n",
      "trainRmse 15.852381855\n",
      "Sparsity pattern 80\n",
      "*****************************************\n",
      "*****************************************\n",
      "lambda 2.18619831126\n",
      "trainRmse 15.852521912\n",
      "Sparsity pattern 80\n",
      "*****************************************\n"
     ]
    }
   ],
   "source": [
    "    nonZeroList = []\n",
    "    precisionList = []\n",
    "    recallList = []\n",
    "    lambdaList = []\n",
    "    \n",
    "    prevRmse = 999999999999999\n",
    "    currRmse = 99999999999999    \n",
    "    while(prevRmse > currRmse):\n",
    "        w,b,trainRmse = train(X1, y, lda)                        \n",
    "        np.count_nonzero(w[:k])\n",
    "        correctW = np.count_nonzero(w[:k])        \n",
    "        prevRmse = currRmse\n",
    "        currRmse = rmse(X,w,b,y)\n",
    "        total = np.count_nonzero(w)\n",
    "        if(total != 0):\n",
    "            precision = correctW/float(total)\n",
    "        else:\n",
    "            precision = 1\n",
    "        precisionList.append(precision)\n",
    "        recall = correctW/float(k)\n",
    "        recallList.append(recall)\n",
    "        lambdaList.append(lda)\n",
    "        print \"*****************************************\"\n",
    "        print \"lambda\", lda\n",
    "        print \"trainRmse\", trainRmse\n",
    "        print \"Sparsity pattern\", np.count_nonzero(w)\n",
    "        print \"*****************************************\"\n",
    "        lda = lda/2"
   ]
  },
  {
   "cell_type": "code",
   "execution_count": 10,
   "metadata": {},
   "outputs": [
    {
     "name": "stdout",
     "output_type": "stream",
     "text": [
      "*****************************************\n",
      "lambda 573098.770105\n",
      "trainRmse 549.071489916\n",
      "Sparsity pattern 1\n",
      "*****************************************\n",
      "*****************************************\n",
      "lambda 286549.385053\n",
      "trainRmse 329.024064853\n",
      "Sparsity pattern 10\n",
      "*****************************************\n",
      "*****************************************\n",
      "lambda 143274.692526\n",
      "trainRmse 165.228529537\n",
      "Sparsity pattern 10\n",
      "*****************************************\n",
      "*****************************************\n",
      "lambda 71637.3462632\n",
      "trainRmse 84.0320597306\n",
      "Sparsity pattern 10\n",
      "*****************************************\n",
      "*****************************************\n",
      "lambda 35818.6731316\n",
      "trainRmse 44.7392685705\n",
      "Sparsity pattern 10\n",
      "*****************************************\n",
      "*****************************************\n",
      "lambda 17909.3365658\n",
      "trainRmse 27.1414833139\n",
      "Sparsity pattern 10\n",
      "*****************************************\n",
      "*****************************************\n",
      "lambda 8954.6682829\n",
      "trainRmse 20.5042251509\n",
      "Sparsity pattern 10\n",
      "*****************************************\n",
      "*****************************************\n",
      "lambda 4477.33414145\n",
      "trainRmse 18.2223733474\n",
      "Sparsity pattern 18\n",
      "*****************************************\n",
      "*****************************************\n",
      "lambda 2238.66707072\n",
      "trainRmse 17.0185988079\n",
      "Sparsity pattern 37\n",
      "*****************************************\n",
      "*****************************************\n",
      "lambda 1119.33353536\n",
      "trainRmse 16.3062735989\n",
      "Sparsity pattern 55\n",
      "*****************************************\n",
      "*****************************************\n",
      "lambda 559.666767681\n",
      "trainRmse 16.0005498383\n",
      "Sparsity pattern 67\n",
      "*****************************************\n",
      "*****************************************\n",
      "lambda 279.833383841\n",
      "trainRmse 15.8954244933\n",
      "Sparsity pattern 74\n",
      "*****************************************\n",
      "*****************************************\n",
      "lambda 139.91669192\n",
      "trainRmse 15.8638313666\n",
      "Sparsity pattern 76\n",
      "*****************************************\n",
      "*****************************************\n",
      "lambda 69.9583459601\n",
      "trainRmse 15.8551357762\n",
      "Sparsity pattern 79\n",
      "*****************************************\n",
      "*****************************************\n",
      "lambda 34.9791729801\n",
      "trainRmse 15.8530527055\n",
      "Sparsity pattern 80\n",
      "*****************************************\n",
      "*****************************************\n",
      "lambda 17.48958649\n",
      "trainRmse 15.8527351678\n",
      "Sparsity pattern 80\n",
      "*****************************************\n",
      "*****************************************\n",
      "lambda 8.74479324502\n",
      "trainRmse 15.8524179929\n",
      "Sparsity pattern 80\n",
      "*****************************************\n",
      "*****************************************\n",
      "lambda 4.37239662251\n",
      "trainRmse 15.8525692292\n",
      "Sparsity pattern 80\n",
      "*****************************************\n",
      "Rmse 15.8524910821\n",
      "Sparsity pattern 80\n",
      "precision 0.125\n",
      "recall 1.0\n",
      "[  9.96152856   9.93283076   9.92079767  10.1104572    9.9557904\n",
      "  10.04300535   9.89248816   9.92838134   9.87393605  10.00134941]\n"
     ]
    }
   ],
   "source": [
    "    n= 250\n",
    "    d =80\n",
    "    X = np.random.normal(0, 10, size = (d,n))\n",
    "    k = 10\n",
    "    wOpt = np.zeros(d)\n",
    "    wOpt[:k] = 10\n",
    "    e = np.random.normal(0, 10, size = (n))\n",
    "    bOpt = 0\n",
    "    y = X.T.dot(wOpt) + bOpt + e\n",
    "    \n",
    "    ldaMax = 2*np.amax(abs(X.dot(y - (np.sum(y)/float(n)))))    \n",
    "    lda = ldaMax\n",
    "    X1 = sp.csr_matrix(X)\n",
    "    train(X1, y, lda)\n"
   ]
  },
  {
   "cell_type": "code",
   "execution_count": 19,
   "metadata": {},
   "outputs": [
    {
     "name": "stdout",
     "output_type": "stream",
     "text": [
      "Rmse 15.8528659128\n",
      "Sparsity pattern 80\n",
      "precision 0.125\n",
      "recall 1.0\n",
      "[  9.96083208   9.9340541    9.92131921  10.10886832   9.95723088\n",
      "  10.04508636   9.8917376    9.92701605   9.8723529   10.00018128]\n"
     ]
    }
   ],
   "source": [
    "    lda = 20#2.18619831126#4.37239662251#1.61958470205#3.23916940411#0.809792351027#1.70821731642#3.41643463284#1.70821731642 #3.41643463284\n",
    "    w,b,trainRmse = train(X1, y, lda)                        \n",
    "    print \"Rmse\", trainRmse\n",
    "#     for i in range(10):\n",
    "#         w,b,trainRmse = train(X1, y, lda)                        \n",
    "#         np.count_nonzero(w[:k])\n",
    "#         correctW = np.count_nonzero(w[:k])\n",
    "#         total = np.count_nonzero(w)\n",
    "#         if(total != 0):\n",
    "#             precision = correctW/float(total)\n",
    "#         precisionList.append(precision)\n",
    "#         recall = correctW/float(k)\n",
    "#         recallList.append(recall)\n",
    "#         lambdaList.append(lda)\n",
    "#         lda = lda/2\n",
    "    print \"Sparsity pattern\", np.count_nonzero(w)\n",
    "    correctW = np.count_nonzero(w[:k])\n",
    "    total = np.count_nonzero(w)\n",
    "    precision = correctW/float(total)\n",
    "    print \"precision\", precision\n",
    "    recall = correctW/float(k)\n",
    "    print \"recall\", recall\n",
    "    print w[:k]"
   ]
  }
 ],
 "metadata": {
  "kernelspec": {
   "display_name": "Python 2",
   "language": "python",
   "name": "python2"
  },
  "language_info": {
   "codemirror_mode": {
    "name": "ipython",
    "version": 2
   },
   "file_extension": ".py",
   "mimetype": "text/x-python",
   "name": "python",
   "nbconvert_exporter": "python",
   "pygments_lexer": "ipython2",
   "version": "2.7.14"
  }
 },
 "nbformat": 4,
 "nbformat_minor": 2
}
